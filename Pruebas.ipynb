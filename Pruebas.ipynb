{
 "cells": [
  {
   "cell_type": "code",
   "execution_count": 1,
   "metadata": {},
   "outputs": [],
   "source": [
    "from pyModbusTCP.client import ModbusClient\n",
    "from pyModbusTCP.server import ModbusServer\n",
    "from pyModbusTCP.server import DataBank as DB\n",
    "import struct\n",
    "import time\n",
    "import binascii"
   ]
  },
  {
   "cell_type": "code",
   "execution_count": 3,
   "metadata": {},
   "outputs": [],
   "source": [
    "s = ModbusServer(host=\"169.254.219.8\", port = 503, no_block = True)\n",
    "s.start()"
   ]
  },
  {
   "cell_type": "code",
   "execution_count": 19,
   "metadata": {},
   "outputs": [],
   "source": [
    "i1, i2 = struct.unpack('HH',struct.pack('f',3.14))\n",
    "t = (i1,i2)"
   ]
  },
  {
   "cell_type": "code",
   "execution_count": 20,
   "metadata": {},
   "outputs": [
    {
     "data": {
      "text/plain": [
       "b'\\xc3\\xf5H@'"
      ]
     },
     "execution_count": 20,
     "metadata": {},
     "output_type": "execute_result"
    }
   ],
   "source": [
    "packed_string = struct.pack(\"HH\", *t)\n",
    "unpacked_float = struct.unpack(\"f\", packed_string)[0]\n",
    "packed_string"
   ]
  },
  {
   "cell_type": "code",
   "execution_count": 21,
   "metadata": {},
   "outputs": [
    {
     "data": {
      "text/plain": [
       "3.140000104904175"
      ]
     },
     "execution_count": 21,
     "metadata": {},
     "output_type": "execute_result"
    }
   ],
   "source": [
    "unpacked_float"
   ]
  },
  {
   "cell_type": "code",
   "execution_count": 23,
   "metadata": {},
   "outputs": [
    {
     "ename": "error",
     "evalue": "bad char in struct format",
     "output_type": "error",
     "traceback": [
      "\u001b[1;31m---------------------------------------------------------------------------\u001b[0m",
      "\u001b[1;31merror\u001b[0m                                     Traceback (most recent call last)",
      "\u001b[1;32mc:\\Users\\Usuario\\Documents\\Plataforma\\Plataforma-main\\Pruebas.ipynb Cell 8'\u001b[0m in \u001b[0;36m<cell line: 1>\u001b[1;34m()\u001b[0m\n\u001b[1;32m----> <a href='vscode-notebook-cell:/c%3A/Users/Usuario/Documents/Plataforma/Plataforma-main/Pruebas.ipynb#ch0000004?line=0'>1</a>\u001b[0m struct\u001b[39m.\u001b[39;49munpack(\u001b[39m'\u001b[39;49m\u001b[39mH*\u001b[39;49m\u001b[39m'\u001b[39;49m,struct\u001b[39m.\u001b[39;49mpack(\u001b[39m'\u001b[39;49m\u001b[39mf\u001b[39;49m\u001b[39m'\u001b[39;49m,\u001b[39m3.14\u001b[39;49m))\n",
      "\u001b[1;31merror\u001b[0m: bad char in struct format"
     ]
    }
   ],
   "source": [
    "struct.unpack('H*',struct.pack('f',3.14))"
   ]
  },
  {
   "cell_type": "code",
   "execution_count": 4,
   "metadata": {},
   "outputs": [],
   "source": [
    "try:\n",
    "    c = ModbusClient(host=\"169.254.219.4\", port = 502)\n",
    "    c.open()  \n",
    "except :\n",
    "    print('Erorr No se pudo establacer la comuniación: ')"
   ]
  },
  {
   "cell_type": "code",
   "execution_count": 9,
   "metadata": {},
   "outputs": [
    {
     "data": {
      "text/plain": [
       "[15, 0]"
      ]
     },
     "execution_count": 9,
     "metadata": {},
     "output_type": "execute_result"
    }
   ],
   "source": [
    "a = c.read_holding_registers(22,2)\n",
    "a"
   ]
  },
  {
   "cell_type": "code",
   "execution_count": null,
   "metadata": {},
   "outputs": [],
   "source": [
    "while True:\n",
    "    Temp = c.read_holding_registers(99,2)\n",
    "    packed_string = struct.pack(\"HH\", *Temp)\n",
    "    unpacked_float = struct.unpack(\"f\", packed_string)[0]\n",
    "    print(f'binario {Temp} , float {unpacked_float}')\n",
    "    time.sleep(1.5)"
   ]
  },
  {
   "cell_type": "code",
   "execution_count": 22,
   "metadata": {},
   "outputs": [
    {
     "name": "stdout",
     "output_type": "stream",
     "text": [
      "127.0.0.1 502\n"
     ]
    }
   ],
   "source": [
    "Coms = open('coms.txt','r')\n",
    "Data = Coms.read()\n",
    "Coms.close()\n",
    "Data = Data.split('\\n')\n",
    "ip = Data[0].split(' ')[1]\n",
    "port = Data[1].split(' ')[1]\n",
    "\n",
    "print(ip,port)\n",
    "\n"
   ]
  },
  {
   "cell_type": "code",
   "execution_count": 21,
   "metadata": {},
   "outputs": [],
   "source": [
    "Coms = open('coms.txt','w')\n",
    "ip_w = \"127.0.0.1\"\n",
    "port = \"502\"\n",
    "Data_w = f\"ip: {ip_w}\\nport: {port}\"\n",
    "Coms.write(Data_w)\n",
    "Coms.close()"
   ]
  },
  {
   "cell_type": "code",
   "execution_count": 28,
   "metadata": {},
   "outputs": [
    {
     "data": {
      "text/plain": [
       "'asd_asd_1'"
      ]
     },
     "execution_count": 28,
     "metadata": {},
     "output_type": "execute_result"
    }
   ],
   "source": [
    "a = 'asd_asd_1'\n",
    "a = a.replace(' ','')\n",
    "a"
   ]
  },
  {
   "cell_type": "code",
   "execution_count": 1,
   "metadata": {},
   "outputs": [],
   "source": [
    "def getAcciones(self):\n",
    "        \"\"\"Función encargada de extraer la lista de acciones a ejecutar a partir de las instrucciones\"\"\"\n",
    "        acciones=[]\n",
    "        dictTree=self.dictTree()\n",
    "        for element in dictTree['root']:\n",
    "            if element !='Comentarios':\n",
    "                t=dictTree['root'][element]\n",
    "                for accion in t:\n",
    "                    acciones.append(accion)\n",
    "        return acciones\n",
    "text = \"\"\"set válvula-solpurga on \n",
    "        set válvula-solh2 on \n",
    "        ramp T-horno (120,5)  #   ramp (tfinal,°C/min)\n",
    "        set T-in-pos 50\n",
    "        set T-in-neg 50\n",
    "        wait 50\n",
    "        set flujoh2 2\n",
    "        set flujopurga 5 \n",
    "        OPEN_FILE \"C:/Users/DCM/Documents/Rinaldi/Soft Plataforma/Scada-1/Rutinas xml/Rutina_completa.xml\" \"\"\""
   ]
  },
  {
   "cell_type": "code",
   "execution_count": 8,
   "metadata": {},
   "outputs": [
    {
     "data": {
      "text/plain": [
       "['hola', 'hola']"
      ]
     },
     "execution_count": 8,
     "metadata": {},
     "output_type": "execute_result"
    }
   ],
   "source": [
    "codigo = ['','hola','','hola']\n",
    "codigo = [ palabra for palabra in codigo if palabra]\n",
    "codigo"
   ]
  },
  {
   "cell_type": "code",
   "execution_count": 11,
   "metadata": {},
   "outputs": [],
   "source": [
    "codigo = ['$$', 'set', 'válvula-solpurga', 'on', '$$', 'set', 'válvula-solh2', 'on', '$$', 'ramp', 'T-horno', '(120,5)', '#', 'ramp', '(tfinal,°C/min)', '$$', 'set', 'T-in-pos', '50', '$$', 'set', 'T-in-neg', '50', '$$', 'wait', '50', '$$', 'set', 'flujoh2', '2', '$$', 'set', 'flujopurga', '5', '$$', '$$', '$$', 'OPEN_FILE', '\"C:/Users/DCM/Documents/Rinaldi/Soft_._Plataforma/Scada-1/Rutinas_._xml/Rutina_completa.xml\"', '$$']"
   ]
  },
  {
   "cell_type": "code",
   "execution_count": null,
   "metadata": {},
   "outputs": [],
   "source": [
    "trimed = [palabra for i, palabra in enumerate(codigo) if palabra != '$$' if i<len(codigo) codigo[i+1]]"
   ]
  },
  {
   "cell_type": "code",
   "execution_count": null,
   "metadata": {},
   "outputs": [],
   "source": [
    "import re"
   ]
  },
  {
   "cell_type": "code",
   "execution_count": 20,
   "metadata": {},
   "outputs": [
    {
     "name": "stdout",
     "output_type": "stream",
     "text": [
      "lala\n"
     ]
    }
   ],
   "source": [
    "\n",
    "texto = 'hola que tal end\\n'\n",
    "patron = r'\\b(end)\\b'\n",
    "if re.findall(patron,texto):\n",
    "    print('lala')\n"
   ]
  }
 ],
 "metadata": {
  "interpreter": {
   "hash": "b7ccc8408d5803854accb9e037fa64977e140baa7f8e1de9e0a4a469b45e8a9d"
  },
  "kernelspec": {
   "display_name": "Python 3 (ipykernel)",
   "language": "python",
   "name": "python3"
  },
  "language_info": {
   "codemirror_mode": {
    "name": "ipython",
    "version": 3
   },
   "file_extension": ".py",
   "mimetype": "text/x-python",
   "name": "python",
   "nbconvert_exporter": "python",
   "pygments_lexer": "ipython3",
   "version": "3.10.2"
  }
 },
 "nbformat": 4,
 "nbformat_minor": 2
}
