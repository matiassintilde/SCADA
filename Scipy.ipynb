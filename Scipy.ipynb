{
 "cells": [
  {
   "cell_type": "code",
   "execution_count": 1,
   "metadata": {},
   "outputs": [],
   "source": [
    "import pyvisa as pv\n",
    "import time\n",
    "import numpy as np\n",
    "import matplotlib.pyplot as plt"
   ]
  },
  {
   "cell_type": "code",
   "execution_count": 9,
   "metadata": {},
   "outputs": [],
   "source": [
    "rm = pv.ResourceManager()\n"
   ]
  },
  {
   "cell_type": "code",
   "execution_count": 12,
   "metadata": {},
   "outputs": [
    {
     "name": "stdout",
     "output_type": "stream",
     "text": [
      "('ASRL1::INSTR', 'ASRL8::INSTR')\n",
      "Resource Manager of Visa Library at C:\\Windows\\system32\\visa32.dll\n"
     ]
    }
   ],
   "source": [
    "recursos = rm.list_resources('?*')\n",
    "print(recursos) #('ASRL1::INSTR', 'ASRL10::INSTR')\n",
    "print(rm)\n",
    "eLoad = rm.open_resource(recursos[1])"
   ]
  },
  {
   "cell_type": "code",
   "execution_count": 13,
   "metadata": {},
   "outputs": [],
   "source": [
    "eLoad.close()"
   ]
  },
  {
   "cell_type": "code",
   "execution_count": 11,
   "metadata": {},
   "outputs": [
    {
     "ename": "VisaIOError",
     "evalue": "VI_ERROR_CONN_LOST (-1073807194): The connection for the given session has been lost.",
     "output_type": "error",
     "traceback": [
      "\u001b[1;31m---------------------------------------------------------------------------\u001b[0m",
      "\u001b[1;31mVisaIOError\u001b[0m                               Traceback (most recent call last)",
      "\u001b[1;32mc:\\Users\\Usuario\\Documents\\Plataforma\\Plataforma-main\\Scipy.ipynb Celda 4\u001b[0m in \u001b[0;36m<cell line: 1>\u001b[1;34m()\u001b[0m\n\u001b[1;32m----> <a href='vscode-notebook-cell:/c%3A/Users/Usuario/Documents/Plataforma/Plataforma-main/Scipy.ipynb#W3sZmlsZQ%3D%3D?line=0'>1</a>\u001b[0m \u001b[39mprint\u001b[39m(eLoad\u001b[39m.\u001b[39;49mquery(\u001b[39m'\u001b[39;49m\u001b[39m*IDN?\u001b[39;49m\u001b[39m'\u001b[39;49m))\n",
      "File \u001b[1;32mc:\\Users\\Usuario\\AppData\\Local\\Programs\\Python\\Python310\\lib\\site-packages\\pyvisa\\resources\\messagebased.py:642\u001b[0m, in \u001b[0;36mMessageBasedResource.query\u001b[1;34m(self, message, delay)\u001b[0m\n\u001b[0;32m    625\u001b[0m \u001b[39mdef\u001b[39;00m \u001b[39mquery\u001b[39m(\u001b[39mself\u001b[39m, message: \u001b[39mstr\u001b[39m, delay: Optional[\u001b[39mfloat\u001b[39m] \u001b[39m=\u001b[39m \u001b[39mNone\u001b[39;00m) \u001b[39m-\u001b[39m\u001b[39m>\u001b[39m \u001b[39mstr\u001b[39m:\n\u001b[0;32m    626\u001b[0m     \u001b[39m\"\"\"A combination of write(message) and read()\u001b[39;00m\n\u001b[0;32m    627\u001b[0m \n\u001b[0;32m    628\u001b[0m \u001b[39m    Parameters\u001b[39;00m\n\u001b[1;32m   (...)\u001b[0m\n\u001b[0;32m    640\u001b[0m \n\u001b[0;32m    641\u001b[0m \u001b[39m    \"\"\"\u001b[39;00m\n\u001b[1;32m--> 642\u001b[0m     \u001b[39mself\u001b[39;49m\u001b[39m.\u001b[39;49mwrite(message)\n\u001b[0;32m    644\u001b[0m     delay \u001b[39m=\u001b[39m \u001b[39mself\u001b[39m\u001b[39m.\u001b[39mquery_delay \u001b[39mif\u001b[39;00m delay \u001b[39mis\u001b[39;00m \u001b[39mNone\u001b[39;00m \u001b[39melse\u001b[39;00m delay\n\u001b[0;32m    645\u001b[0m     \u001b[39mif\u001b[39;00m delay \u001b[39m>\u001b[39m \u001b[39m0.0\u001b[39m:\n",
      "File \u001b[1;32mc:\\Users\\Usuario\\AppData\\Local\\Programs\\Python\\Python310\\lib\\site-packages\\pyvisa\\resources\\messagebased.py:197\u001b[0m, in \u001b[0;36mMessageBasedResource.write\u001b[1;34m(self, message, termination, encoding)\u001b[0m\n\u001b[0;32m    191\u001b[0m         warnings\u001b[39m.\u001b[39mwarn(\n\u001b[0;32m    192\u001b[0m             \u001b[39m\"\u001b[39m\u001b[39mwrite message already ends with \u001b[39m\u001b[39m\"\u001b[39m \u001b[39m\"\u001b[39m\u001b[39mtermination characters\u001b[39m\u001b[39m\"\u001b[39m,\n\u001b[0;32m    193\u001b[0m             stacklevel\u001b[39m=\u001b[39m\u001b[39m2\u001b[39m,\n\u001b[0;32m    194\u001b[0m         )\n\u001b[0;32m    195\u001b[0m     message \u001b[39m+\u001b[39m\u001b[39m=\u001b[39m term\n\u001b[1;32m--> 197\u001b[0m count \u001b[39m=\u001b[39m \u001b[39mself\u001b[39;49m\u001b[39m.\u001b[39;49mwrite_raw(message\u001b[39m.\u001b[39;49mencode(enco))\n\u001b[0;32m    199\u001b[0m \u001b[39mreturn\u001b[39;00m count\n",
      "File \u001b[1;32mc:\\Users\\Usuario\\AppData\\Local\\Programs\\Python\\Python310\\lib\\site-packages\\pyvisa\\resources\\messagebased.py:157\u001b[0m, in \u001b[0;36mMessageBasedResource.write_raw\u001b[1;34m(self, message)\u001b[0m\n\u001b[0;32m    143\u001b[0m \u001b[39mdef\u001b[39;00m \u001b[39mwrite_raw\u001b[39m(\u001b[39mself\u001b[39m, message: \u001b[39mbytes\u001b[39m) \u001b[39m-\u001b[39m\u001b[39m>\u001b[39m \u001b[39mint\u001b[39m:\n\u001b[0;32m    144\u001b[0m     \u001b[39m\"\"\"Write a byte message to the device.\u001b[39;00m\n\u001b[0;32m    145\u001b[0m \n\u001b[0;32m    146\u001b[0m \u001b[39m    Parameters\u001b[39;00m\n\u001b[1;32m   (...)\u001b[0m\n\u001b[0;32m    155\u001b[0m \n\u001b[0;32m    156\u001b[0m \u001b[39m    \"\"\"\u001b[39;00m\n\u001b[1;32m--> 157\u001b[0m     \u001b[39mreturn\u001b[39;00m \u001b[39mself\u001b[39;49m\u001b[39m.\u001b[39;49mvisalib\u001b[39m.\u001b[39;49mwrite(\u001b[39mself\u001b[39;49m\u001b[39m.\u001b[39;49msession, message)[\u001b[39m0\u001b[39m]\n",
      "File \u001b[1;32mc:\\Users\\Usuario\\AppData\\Local\\Programs\\Python\\Python310\\lib\\site-packages\\pyvisa\\ctwrapper\\functions.py:2796\u001b[0m, in \u001b[0;36mwrite\u001b[1;34m(library, session, data)\u001b[0m\n\u001b[0;32m   2794\u001b[0m return_count \u001b[39m=\u001b[39m ViUInt32()\n\u001b[0;32m   2795\u001b[0m \u001b[39m# [ViSession, ViBuf, ViUInt32, ViPUInt32]\u001b[39;00m\n\u001b[1;32m-> 2796\u001b[0m ret \u001b[39m=\u001b[39m library\u001b[39m.\u001b[39;49mviWrite(session, data, \u001b[39mlen\u001b[39;49m(data), byref(return_count))\n\u001b[0;32m   2797\u001b[0m \u001b[39mreturn\u001b[39;00m return_count\u001b[39m.\u001b[39mvalue, ret\n",
      "File \u001b[1;32mc:\\Users\\Usuario\\AppData\\Local\\Programs\\Python\\Python310\\lib\\site-packages\\pyvisa\\ctwrapper\\highlevel.py:226\u001b[0m, in \u001b[0;36mIVIVisaLibrary._return_handler\u001b[1;34m(self, ret_value, func, arguments)\u001b[0m\n\u001b[0;32m    223\u001b[0m         \u001b[39m# Set session back to a safe value\u001b[39;00m\n\u001b[0;32m    224\u001b[0m         session \u001b[39m=\u001b[39m \u001b[39mNone\u001b[39;00m\n\u001b[1;32m--> 226\u001b[0m \u001b[39mreturn\u001b[39;00m \u001b[39mself\u001b[39;49m\u001b[39m.\u001b[39;49mhandle_return_value(session, ret_value)\n",
      "File \u001b[1;32mc:\\Users\\Usuario\\AppData\\Local\\Programs\\Python\\Python310\\lib\\site-packages\\pyvisa\\highlevel.py:251\u001b[0m, in \u001b[0;36mVisaLibraryBase.handle_return_value\u001b[1;34m(self, session, status_code)\u001b[0m\n\u001b[0;32m    248\u001b[0m     \u001b[39mself\u001b[39m\u001b[39m.\u001b[39m_last_status_in_session[session] \u001b[39m=\u001b[39m rv\n\u001b[0;32m    250\u001b[0m \u001b[39mif\u001b[39;00m rv \u001b[39m<\u001b[39m \u001b[39m0\u001b[39m:\n\u001b[1;32m--> 251\u001b[0m     \u001b[39mraise\u001b[39;00m errors\u001b[39m.\u001b[39mVisaIOError(rv)\n\u001b[0;32m    253\u001b[0m \u001b[39mif\u001b[39;00m rv \u001b[39min\u001b[39;00m \u001b[39mself\u001b[39m\u001b[39m.\u001b[39missue_warning_on:\n\u001b[0;32m    254\u001b[0m     \u001b[39mif\u001b[39;00m session \u001b[39mand\u001b[39;00m rv \u001b[39mnot\u001b[39;00m \u001b[39min\u001b[39;00m \u001b[39mself\u001b[39m\u001b[39m.\u001b[39m_ignore_warning_in_session[session]:\n",
      "\u001b[1;31mVisaIOError\u001b[0m: VI_ERROR_CONN_LOST (-1073807194): The connection for the given session has been lost."
     ]
    }
   ],
   "source": [
    "print(eLoad.query('*IDN?'))\n"
   ]
  },
  {
   "cell_type": "code",
   "execution_count": 14,
   "metadata": {},
   "outputs": [
    {
     "data": {
      "text/plain": [
       "14"
      ]
     },
     "execution_count": 14,
     "metadata": {},
     "output_type": "execute_result"
    }
   ],
   "source": [
    "eLoad.write(\"CURR:LEV 0,2\")"
   ]
  },
  {
   "cell_type": "code",
   "execution_count": 15,
   "metadata": {},
   "outputs": [
    {
     "ename": "VisaIOError",
     "evalue": "VI_ERROR_TMO (-1073807339): Timeout expired before operation completed.",
     "output_type": "error",
     "traceback": [
      "\u001b[1;31m---------------------------------------------------------------------------\u001b[0m",
      "\u001b[1;31mVisaIOError\u001b[0m                               Traceback (most recent call last)",
      "\u001b[1;32mc:\\Users\\Usuario\\Documents\\Plataforma\\Plataforma-main\\Scipy.ipynb Celda 6\u001b[0m in \u001b[0;36m<cell line: 1>\u001b[1;34m()\u001b[0m\n\u001b[1;32m----> <a href='vscode-notebook-cell:/c%3A/Users/Usuario/Documents/Plataforma/Plataforma-main/Scipy.ipynb#W5sZmlsZQ%3D%3D?line=0'>1</a>\u001b[0m eLoad\u001b[39m.\u001b[39;49mquery_ascii_values(\u001b[39m'\u001b[39;49m\u001b[39mSTATus:OPERation:CONDition?\u001b[39;49m\u001b[39m'\u001b[39;49m)\n",
      "File \u001b[1;32mc:\\Users\\Usuario\\AppData\\Local\\Programs\\Python\\Python310\\lib\\site-packages\\pyvisa\\resources\\messagebased.py:689\u001b[0m, in \u001b[0;36mMessageBasedResource.query_ascii_values\u001b[1;34m(self, message, converter, separator, container, delay)\u001b[0m\n\u001b[0;32m    686\u001b[0m \u001b[39mif\u001b[39;00m delay \u001b[39m>\u001b[39m \u001b[39m0.0\u001b[39m:\n\u001b[0;32m    687\u001b[0m     time\u001b[39m.\u001b[39msleep(delay)\n\u001b[1;32m--> 689\u001b[0m \u001b[39mreturn\u001b[39;00m \u001b[39mself\u001b[39;49m\u001b[39m.\u001b[39;49mread_ascii_values(converter, separator, container)\n",
      "File \u001b[1;32mc:\\Users\\Usuario\\AppData\\Local\\Programs\\Python\\Python310\\lib\\site-packages\\pyvisa\\resources\\messagebased.py:529\u001b[0m, in \u001b[0;36mMessageBasedResource.read_ascii_values\u001b[1;34m(self, converter, separator, container)\u001b[0m\n\u001b[0;32m    508\u001b[0m \u001b[39m\"\"\"Read values from the device in ascii format returning an iterable of\u001b[39;00m\n\u001b[0;32m    509\u001b[0m \u001b[39mvalues.\u001b[39;00m\n\u001b[0;32m    510\u001b[0m \n\u001b[1;32m   (...)\u001b[0m\n\u001b[0;32m    526\u001b[0m \n\u001b[0;32m    527\u001b[0m \u001b[39m\"\"\"\u001b[39;00m\n\u001b[0;32m    528\u001b[0m \u001b[39m# Use read rather than _read_raw because we cannot handle a bytearray\u001b[39;00m\n\u001b[1;32m--> 529\u001b[0m block \u001b[39m=\u001b[39m \u001b[39mself\u001b[39;49m\u001b[39m.\u001b[39;49mread()\n\u001b[0;32m    531\u001b[0m \u001b[39mreturn\u001b[39;00m util\u001b[39m.\u001b[39mfrom_ascii_block(block, converter, separator, container)\n",
      "File \u001b[1;32mc:\\Users\\Usuario\\AppData\\Local\\Programs\\Python\\Python310\\lib\\site-packages\\pyvisa\\resources\\messagebased.py:486\u001b[0m, in \u001b[0;36mMessageBasedResource.read\u001b[1;34m(self, termination, encoding)\u001b[0m\n\u001b[0;32m    484\u001b[0m \u001b[39mif\u001b[39;00m termination \u001b[39mis\u001b[39;00m \u001b[39mNone\u001b[39;00m:\n\u001b[0;32m    485\u001b[0m     termination \u001b[39m=\u001b[39m \u001b[39mself\u001b[39m\u001b[39m.\u001b[39m_read_termination\n\u001b[1;32m--> 486\u001b[0m     message \u001b[39m=\u001b[39m \u001b[39mself\u001b[39;49m\u001b[39m.\u001b[39;49m_read_raw()\u001b[39m.\u001b[39mdecode(enco)\n\u001b[0;32m    487\u001b[0m \u001b[39melse\u001b[39;00m:\n\u001b[0;32m    488\u001b[0m     \u001b[39mwith\u001b[39;00m \u001b[39mself\u001b[39m\u001b[39m.\u001b[39mread_termination_context(termination):\n",
      "File \u001b[1;32mc:\\Users\\Usuario\\AppData\\Local\\Programs\\Python\\Python310\\lib\\site-packages\\pyvisa\\resources\\messagebased.py:442\u001b[0m, in \u001b[0;36mMessageBasedResource._read_raw\u001b[1;34m(self, size)\u001b[0m\n\u001b[0;32m    435\u001b[0m     \u001b[39mwhile\u001b[39;00m status \u001b[39m==\u001b[39m loop_status:\n\u001b[0;32m    436\u001b[0m         logger\u001b[39m.\u001b[39mdebug(\n\u001b[0;32m    437\u001b[0m             \u001b[39m\"\u001b[39m\u001b[39m%s\u001b[39;00m\u001b[39m - reading \u001b[39m\u001b[39m%d\u001b[39;00m\u001b[39m bytes (last status \u001b[39m\u001b[39m%r\u001b[39;00m\u001b[39m)\u001b[39m\u001b[39m\"\u001b[39m,\n\u001b[0;32m    438\u001b[0m             \u001b[39mself\u001b[39m\u001b[39m.\u001b[39m_resource_name,\n\u001b[0;32m    439\u001b[0m             size,\n\u001b[0;32m    440\u001b[0m             status,\n\u001b[0;32m    441\u001b[0m         )\n\u001b[1;32m--> 442\u001b[0m         chunk, status \u001b[39m=\u001b[39m \u001b[39mself\u001b[39;49m\u001b[39m.\u001b[39;49mvisalib\u001b[39m.\u001b[39;49mread(\u001b[39mself\u001b[39;49m\u001b[39m.\u001b[39;49msession, size)\n\u001b[0;32m    443\u001b[0m         ret\u001b[39m.\u001b[39mextend(chunk)\n\u001b[0;32m    444\u001b[0m \u001b[39mexcept\u001b[39;00m errors\u001b[39m.\u001b[39mVisaIOError \u001b[39mas\u001b[39;00m e:\n",
      "File \u001b[1;32mc:\\Users\\Usuario\\AppData\\Local\\Programs\\Python\\Python310\\lib\\site-packages\\pyvisa\\ctwrapper\\functions.py:2337\u001b[0m, in \u001b[0;36mread\u001b[1;34m(library, session, count)\u001b[0m\n\u001b[0;32m   2335\u001b[0m buffer \u001b[39m=\u001b[39m create_string_buffer(count)\n\u001b[0;32m   2336\u001b[0m return_count \u001b[39m=\u001b[39m ViUInt32()\n\u001b[1;32m-> 2337\u001b[0m ret \u001b[39m=\u001b[39m library\u001b[39m.\u001b[39;49mviRead(session, buffer, count, byref(return_count))\n\u001b[0;32m   2338\u001b[0m \u001b[39mreturn\u001b[39;00m buffer\u001b[39m.\u001b[39mraw[: return_count\u001b[39m.\u001b[39mvalue], ret\n",
      "File \u001b[1;32mc:\\Users\\Usuario\\AppData\\Local\\Programs\\Python\\Python310\\lib\\site-packages\\pyvisa\\ctwrapper\\highlevel.py:226\u001b[0m, in \u001b[0;36mIVIVisaLibrary._return_handler\u001b[1;34m(self, ret_value, func, arguments)\u001b[0m\n\u001b[0;32m    223\u001b[0m         \u001b[39m# Set session back to a safe value\u001b[39;00m\n\u001b[0;32m    224\u001b[0m         session \u001b[39m=\u001b[39m \u001b[39mNone\u001b[39;00m\n\u001b[1;32m--> 226\u001b[0m \u001b[39mreturn\u001b[39;00m \u001b[39mself\u001b[39;49m\u001b[39m.\u001b[39;49mhandle_return_value(session, ret_value)\n",
      "File \u001b[1;32mc:\\Users\\Usuario\\AppData\\Local\\Programs\\Python\\Python310\\lib\\site-packages\\pyvisa\\highlevel.py:251\u001b[0m, in \u001b[0;36mVisaLibraryBase.handle_return_value\u001b[1;34m(self, session, status_code)\u001b[0m\n\u001b[0;32m    248\u001b[0m     \u001b[39mself\u001b[39m\u001b[39m.\u001b[39m_last_status_in_session[session] \u001b[39m=\u001b[39m rv\n\u001b[0;32m    250\u001b[0m \u001b[39mif\u001b[39;00m rv \u001b[39m<\u001b[39m \u001b[39m0\u001b[39m:\n\u001b[1;32m--> 251\u001b[0m     \u001b[39mraise\u001b[39;00m errors\u001b[39m.\u001b[39mVisaIOError(rv)\n\u001b[0;32m    253\u001b[0m \u001b[39mif\u001b[39;00m rv \u001b[39min\u001b[39;00m \u001b[39mself\u001b[39m\u001b[39m.\u001b[39missue_warning_on:\n\u001b[0;32m    254\u001b[0m     \u001b[39mif\u001b[39;00m session \u001b[39mand\u001b[39;00m rv \u001b[39mnot\u001b[39;00m \u001b[39min\u001b[39;00m \u001b[39mself\u001b[39m\u001b[39m.\u001b[39m_ignore_warning_in_session[session]:\n",
      "\u001b[1;31mVisaIOError\u001b[0m: VI_ERROR_TMO (-1073807339): Timeout expired before operation completed."
     ]
    }
   ],
   "source": [
    "eLoad.query_ascii_values('STATus:OPERation:CONDition?')"
   ]
  },
  {
   "cell_type": "code",
   "execution_count": 24,
   "metadata": {},
   "outputs": [
    {
     "name": "stdout",
     "output_type": "stream",
     "text": [
      "comando Scpi: (q->Query_ascii w-> Write r -> Read) \n",
      "\n"
     ]
    }
   ],
   "source": [
    "while True:\n",
    "    msg = input(\"comando Scpi: (q->Query_ascii w-> Write r -> Read) \\n\")\n",
    "    if msg.lower() == 'q':\n",
    "        ins = input(\"Query ascii : \")\n",
    "        eLoad.query_ascii_values(ins)\n",
    "        \n",
    "    elif msg.lower() == 'w':\n",
    "        ins = input(\"Write : \")\n",
    "        eLoad.write(ins)\n",
    "        \n",
    "    \n",
    "    elif msg.lower() == 'r':\n",
    "        ins = input(\"Read : \")\n",
    "        eLoad.read(ins)\n",
    "    else:\n",
    "        break\n",
    "\n",
    "    "
   ]
  },
  {
   "cell_type": "code",
   "execution_count": 16,
   "metadata": {},
   "outputs": [],
   "source": [
    "eLoad.write('[SOURce:]LIST:REPeat 1')\n",
    "scpi = ['[SOURce:]LIST:REPeat 1','[SOURce:]LIST:STEP 10','[SOURce:] LIST:MODE CONT','[SOURce:]LIST:SET01:MODE 0',\n",
    "      ]\n",
    "for ins in scpi:\n",
    "    eLoad.write(ins)\n"
   ]
  },
  {
   "cell_type": "code",
   "execution_count": 17,
   "metadata": {},
   "outputs": [
    {
     "ename": "VisaIOError",
     "evalue": "VI_ERROR_TMO (-1073807339): Timeout expired before operation completed.",
     "output_type": "error",
     "traceback": [
      "\u001b[1;31m---------------------------------------------------------------------------\u001b[0m",
      "\u001b[1;31mVisaIOError\u001b[0m                               Traceback (most recent call last)",
      "\u001b[1;32mc:\\Users\\Usuario\\Documents\\Plataforma\\Plataforma-main\\Scipy.ipynb Celda 9\u001b[0m in \u001b[0;36m<cell line: 1>\u001b[1;34m()\u001b[0m\n\u001b[1;32m----> <a href='vscode-notebook-cell:/c%3A/Users/Usuario/Documents/Plataforma/Plataforma-main/Scipy.ipynb#X11sZmlsZQ%3D%3D?line=0'>1</a>\u001b[0m eLoad\u001b[39m.\u001b[39;49mquery_ascii_values(\u001b[39m'\u001b[39;49m\u001b[39mMODE?\u001b[39;49m\u001b[39m'\u001b[39;49m)\n",
      "File \u001b[1;32mc:\\Users\\Usuario\\AppData\\Local\\Programs\\Python\\Python310\\lib\\site-packages\\pyvisa\\resources\\messagebased.py:689\u001b[0m, in \u001b[0;36mMessageBasedResource.query_ascii_values\u001b[1;34m(self, message, converter, separator, container, delay)\u001b[0m\n\u001b[0;32m    686\u001b[0m \u001b[39mif\u001b[39;00m delay \u001b[39m>\u001b[39m \u001b[39m0.0\u001b[39m:\n\u001b[0;32m    687\u001b[0m     time\u001b[39m.\u001b[39msleep(delay)\n\u001b[1;32m--> 689\u001b[0m \u001b[39mreturn\u001b[39;00m \u001b[39mself\u001b[39;49m\u001b[39m.\u001b[39;49mread_ascii_values(converter, separator, container)\n",
      "File \u001b[1;32mc:\\Users\\Usuario\\AppData\\Local\\Programs\\Python\\Python310\\lib\\site-packages\\pyvisa\\resources\\messagebased.py:529\u001b[0m, in \u001b[0;36mMessageBasedResource.read_ascii_values\u001b[1;34m(self, converter, separator, container)\u001b[0m\n\u001b[0;32m    508\u001b[0m \u001b[39m\"\"\"Read values from the device in ascii format returning an iterable of\u001b[39;00m\n\u001b[0;32m    509\u001b[0m \u001b[39mvalues.\u001b[39;00m\n\u001b[0;32m    510\u001b[0m \n\u001b[1;32m   (...)\u001b[0m\n\u001b[0;32m    526\u001b[0m \n\u001b[0;32m    527\u001b[0m \u001b[39m\"\"\"\u001b[39;00m\n\u001b[0;32m    528\u001b[0m \u001b[39m# Use read rather than _read_raw because we cannot handle a bytearray\u001b[39;00m\n\u001b[1;32m--> 529\u001b[0m block \u001b[39m=\u001b[39m \u001b[39mself\u001b[39;49m\u001b[39m.\u001b[39;49mread()\n\u001b[0;32m    531\u001b[0m \u001b[39mreturn\u001b[39;00m util\u001b[39m.\u001b[39mfrom_ascii_block(block, converter, separator, container)\n",
      "File \u001b[1;32mc:\\Users\\Usuario\\AppData\\Local\\Programs\\Python\\Python310\\lib\\site-packages\\pyvisa\\resources\\messagebased.py:486\u001b[0m, in \u001b[0;36mMessageBasedResource.read\u001b[1;34m(self, termination, encoding)\u001b[0m\n\u001b[0;32m    484\u001b[0m \u001b[39mif\u001b[39;00m termination \u001b[39mis\u001b[39;00m \u001b[39mNone\u001b[39;00m:\n\u001b[0;32m    485\u001b[0m     termination \u001b[39m=\u001b[39m \u001b[39mself\u001b[39m\u001b[39m.\u001b[39m_read_termination\n\u001b[1;32m--> 486\u001b[0m     message \u001b[39m=\u001b[39m \u001b[39mself\u001b[39;49m\u001b[39m.\u001b[39;49m_read_raw()\u001b[39m.\u001b[39mdecode(enco)\n\u001b[0;32m    487\u001b[0m \u001b[39melse\u001b[39;00m:\n\u001b[0;32m    488\u001b[0m     \u001b[39mwith\u001b[39;00m \u001b[39mself\u001b[39m\u001b[39m.\u001b[39mread_termination_context(termination):\n",
      "File \u001b[1;32mc:\\Users\\Usuario\\AppData\\Local\\Programs\\Python\\Python310\\lib\\site-packages\\pyvisa\\resources\\messagebased.py:442\u001b[0m, in \u001b[0;36mMessageBasedResource._read_raw\u001b[1;34m(self, size)\u001b[0m\n\u001b[0;32m    435\u001b[0m     \u001b[39mwhile\u001b[39;00m status \u001b[39m==\u001b[39m loop_status:\n\u001b[0;32m    436\u001b[0m         logger\u001b[39m.\u001b[39mdebug(\n\u001b[0;32m    437\u001b[0m             \u001b[39m\"\u001b[39m\u001b[39m%s\u001b[39;00m\u001b[39m - reading \u001b[39m\u001b[39m%d\u001b[39;00m\u001b[39m bytes (last status \u001b[39m\u001b[39m%r\u001b[39;00m\u001b[39m)\u001b[39m\u001b[39m\"\u001b[39m,\n\u001b[0;32m    438\u001b[0m             \u001b[39mself\u001b[39m\u001b[39m.\u001b[39m_resource_name,\n\u001b[0;32m    439\u001b[0m             size,\n\u001b[0;32m    440\u001b[0m             status,\n\u001b[0;32m    441\u001b[0m         )\n\u001b[1;32m--> 442\u001b[0m         chunk, status \u001b[39m=\u001b[39m \u001b[39mself\u001b[39;49m\u001b[39m.\u001b[39;49mvisalib\u001b[39m.\u001b[39;49mread(\u001b[39mself\u001b[39;49m\u001b[39m.\u001b[39;49msession, size)\n\u001b[0;32m    443\u001b[0m         ret\u001b[39m.\u001b[39mextend(chunk)\n\u001b[0;32m    444\u001b[0m \u001b[39mexcept\u001b[39;00m errors\u001b[39m.\u001b[39mVisaIOError \u001b[39mas\u001b[39;00m e:\n",
      "File \u001b[1;32mc:\\Users\\Usuario\\AppData\\Local\\Programs\\Python\\Python310\\lib\\site-packages\\pyvisa\\ctwrapper\\functions.py:2337\u001b[0m, in \u001b[0;36mread\u001b[1;34m(library, session, count)\u001b[0m\n\u001b[0;32m   2335\u001b[0m buffer \u001b[39m=\u001b[39m create_string_buffer(count)\n\u001b[0;32m   2336\u001b[0m return_count \u001b[39m=\u001b[39m ViUInt32()\n\u001b[1;32m-> 2337\u001b[0m ret \u001b[39m=\u001b[39m library\u001b[39m.\u001b[39;49mviRead(session, buffer, count, byref(return_count))\n\u001b[0;32m   2338\u001b[0m \u001b[39mreturn\u001b[39;00m buffer\u001b[39m.\u001b[39mraw[: return_count\u001b[39m.\u001b[39mvalue], ret\n",
      "File \u001b[1;32mc:\\Users\\Usuario\\AppData\\Local\\Programs\\Python\\Python310\\lib\\site-packages\\pyvisa\\ctwrapper\\highlevel.py:226\u001b[0m, in \u001b[0;36mIVIVisaLibrary._return_handler\u001b[1;34m(self, ret_value, func, arguments)\u001b[0m\n\u001b[0;32m    223\u001b[0m         \u001b[39m# Set session back to a safe value\u001b[39;00m\n\u001b[0;32m    224\u001b[0m         session \u001b[39m=\u001b[39m \u001b[39mNone\u001b[39;00m\n\u001b[1;32m--> 226\u001b[0m \u001b[39mreturn\u001b[39;00m \u001b[39mself\u001b[39;49m\u001b[39m.\u001b[39;49mhandle_return_value(session, ret_value)\n",
      "File \u001b[1;32mc:\\Users\\Usuario\\AppData\\Local\\Programs\\Python\\Python310\\lib\\site-packages\\pyvisa\\highlevel.py:251\u001b[0m, in \u001b[0;36mVisaLibraryBase.handle_return_value\u001b[1;34m(self, session, status_code)\u001b[0m\n\u001b[0;32m    248\u001b[0m     \u001b[39mself\u001b[39m\u001b[39m.\u001b[39m_last_status_in_session[session] \u001b[39m=\u001b[39m rv\n\u001b[0;32m    250\u001b[0m \u001b[39mif\u001b[39;00m rv \u001b[39m<\u001b[39m \u001b[39m0\u001b[39m:\n\u001b[1;32m--> 251\u001b[0m     \u001b[39mraise\u001b[39;00m errors\u001b[39m.\u001b[39mVisaIOError(rv)\n\u001b[0;32m    253\u001b[0m \u001b[39mif\u001b[39;00m rv \u001b[39min\u001b[39;00m \u001b[39mself\u001b[39m\u001b[39m.\u001b[39missue_warning_on:\n\u001b[0;32m    254\u001b[0m     \u001b[39mif\u001b[39;00m session \u001b[39mand\u001b[39;00m rv \u001b[39mnot\u001b[39;00m \u001b[39min\u001b[39;00m \u001b[39mself\u001b[39m\u001b[39m.\u001b[39m_ignore_warning_in_session[session]:\n",
      "\u001b[1;31mVisaIOError\u001b[0m: VI_ERROR_TMO (-1073807339): Timeout expired before operation completed."
     ]
    }
   ],
   "source": [
    "eLoad.query_ascii_values('MODE?')"
   ]
  },
  {
   "cell_type": "code",
   "execution_count": 135,
   "metadata": {},
   "outputs": [
    {
     "data": {
      "text/plain": [
       "[11.5036]"
      ]
     },
     "execution_count": 135,
     "metadata": {},
     "output_type": "execute_result"
    }
   ],
   "source": [
    "eLoad.write('LIST:CALL 10')\n",
    "eLoad.query_ascii_values('MEAS:VOLT?')"
   ]
  },
  {
   "cell_type": "code",
   "execution_count": 105,
   "metadata": {},
   "outputs": [
    {
     "data": {
      "text/plain": [
       "45"
      ]
     },
     "execution_count": 105,
     "metadata": {},
     "output_type": "execute_result"
    }
   ],
   "source": [
    "reset()\n",
    "remote()\n",
    "eLoad.write('SOURce:VOLTage:LEVel:IMMediate:AMPLitude 10')"
   ]
  },
  {
   "cell_type": "code",
   "execution_count": 16,
   "metadata": {},
   "outputs": [],
   "source": [
    "######## FUNCIONES RÁPIDAS\n",
    "def run(el=eLoad):\n",
    "    el.write('INPUT:ON')\n",
    "    \n",
    "def stop(el=eLoad):\n",
    "    el.write('INPUT:OFF')\n",
    "    \n",
    "def medir (mag,el = eLoad):\n",
    "    \"\"\"Lee el valor de la mediciín opciones: VOLT|CURR|POW.\n",
    "    Para más opciones revisar el manuel de scpi.\"\"\"\n",
    "    return el.query_ascii_values(f'MEAS:{mag}?')[0]\n",
    "    \n",
    "def local(el=eLoad):\n",
    "    el.write('SYST:LOC')\n",
    "\n",
    "def remote(el=eLoad):\n",
    "    el.write('SYST:REM')\n",
    "\n",
    "def reset(el=eLoad):\n",
    "    el.write('*RST')\n",
    "\n",
    "def mode(el=eLoad):\n",
    "    modo = el.query_ascii_values('MODE?')[0]\n",
    "    \n",
    "    if modo == 0:\n",
    "        return \"Constant Current\"\n",
    "    if modo == 1:\n",
    "        return \"Constant Voltage\"\n",
    "    if modo == 3:\n",
    "        return \"Constant Power\"\n",
    "    if modo == 4:\n",
    "        return \"Dynamic operation mode\"\n",
    "    if modo == 5:\n",
    "        return \"Dynamic voltage mode\"\n",
    "    if modo == 10:\n",
    "        return \"OCP mode\"\n",
    "    if modo == 11:\n",
    "        return \"OPP mode\"\n",
    "    if modo == 12:\n",
    "        return \"Battery CC discharge mode\"\n",
    "    if modo == 13:\n",
    "        return \"Battery CR discharge mode\"\n",
    "    if modo == 14:\n",
    "        return \"Battery CP discharge mod\"\n",
    "    if modo == 18:\n",
    "        return \"List mode\"\n",
    "    if modo == 20:\n",
    "        return \"LED mode\"\n",
    "    if modo == 21:\n",
    "        return \"Time test\"\n",
    "    if modo == 23:\n",
    "        return \"OVP mode\"\n",
    "    return 'CR or Error'\n",
    "\n",
    "    "
   ]
  },
  {
   "cell_type": "code",
   "execution_count": 241,
   "metadata": {},
   "outputs": [
    {
     "name": "stdout",
     "output_type": "stream",
     "text": [
      "voltaje :  11.4887  V\n",
      "Corriente :  0.0  A\n",
      "Potencia :  0.0  W\n"
     ]
    }
   ],
   "source": [
    "run()\n",
    "time.sleep(0.5)\n",
    "print(\"voltaje : \" , medir('VOLT'),\" V\")\n",
    "time.sleep(0.5)\n",
    "print(\"Corriente : \",medir('CURR'),\" A\")\n",
    "time.sleep(0.5)\n",
    "print(\"Potencia : \",medir('POW'), \" W\")\n",
    "time.sleep(0.5)\n",
    "\n",
    "#stop()"
   ]
  },
  {
   "cell_type": "code",
   "execution_count": 17,
   "metadata": {},
   "outputs": [
    {
     "name": "stdout",
     "output_type": "stream",
     "text": [
      "voltaje :  12.5087  V\n",
      "Corriente :  0.9993  A\n",
      "Potencia :  12.1767  W\n",
      "voltaje :  12.2618  V\n",
      "Corriente :  0.5  A\n",
      "Potencia :  6.1305  W\n"
     ]
    },
    {
     "data": {
      "text/plain": [
       "15"
      ]
     },
     "execution_count": 17,
     "metadata": {},
     "output_type": "execute_result"
    }
   ],
   "source": [
    "eLoad.write('QCModule: PROTocol QC2')\n",
    "time.sleep(0.5)\n",
    "\n",
    "eLoad.write('QCModule:CONN?')\n",
    "time.sleep(0.5)\n",
    "\n",
    "eLoad.write('MODE CURR')\n",
    "time.sleep(0.5)\n",
    "\n",
    "eLoad.write('CURR 1A')\n",
    "time.sleep(0.5)\n",
    "\n",
    "eLoad.write('INPUT ON')\n",
    "print(\"voltaje : \" , medir('VOLT'),\" V\")\n",
    "time.sleep(0.5)\n",
    "\n",
    "print(\"Corriente : \",medir('CURR'),\" A\")\n",
    "time.sleep(0.5)\n",
    "\n",
    "print(\"Potencia : \",medir('POW'), \" W\")\n",
    "time.sleep(1.5)\n",
    "\n",
    "eLoad.write('CURR 0.5A')\n",
    "time.sleep(0.5)\n",
    "\n",
    "eLoad.write('INPUT ON')\n",
    "print(\"voltaje : \" , medir('VOLT'),\" V\")\n",
    "time.sleep(0.5)\n",
    "\n",
    "print(\"Corriente : \",medir('CURR'),\" A\")\n",
    "time.sleep(0.5)\n",
    "\n",
    "print(\"Potencia : \",medir('POW'), \" W\")\n",
    "time.sleep(1.5)\n",
    "\n",
    "eLoad.write('INPUT OFF')\n",
    "time.sleep(0.5)\n",
    "eLoad.write('QCM:PROT NULL')"
   ]
  },
  {
   "cell_type": "code",
   "execution_count": 292,
   "metadata": {},
   "outputs": [],
   "source": [
    "def iv(start,stop,num,mode = 'CURR',el=eLoad,graph=1):\n",
    "    \"\"\"Función para levantar curvas IV automaticamente. Por default el modo es\n",
    "    corriente constante para hacerlo a voltaje constante modo=VOLT\"\"\"\n",
    "    # POR AHORA USAR TIME.SLEEP OJO!\n",
    "    test_points = np.linspace(start,stop,num)\n",
    "    voltaje = []\n",
    "    corriente = []\n",
    "    \n",
    "    #Selección de protocolo cargado rápido ¿?\n",
    "    el.write('QCModule: PROTocol QC2')\n",
    "    time.sleep(0.5)\n",
    "    \n",
    "    #Confirmación de comunicación establecida \n",
    "    el.write('QCModule:CONN?')\n",
    "    time.sleep(0.5)\n",
    "    \n",
    "    #Selección de modo\n",
    "    el.write(f'MODE {mode}')\n",
    "    time.sleep(0.5)\n",
    "    \n",
    "    off = True\n",
    "    #Inicio de las mediciones\n",
    "    for point in test_points:\n",
    "        #print(f'{modo} {point:.4f}')\n",
    "        el.write(f'{mode} {point:.4f}')\n",
    "        time.sleep(0.7)\n",
    "        \n",
    "        if not eLoad.query_ascii_values('INPUT?')[0]:\n",
    "            el.write('INPUT ON')\n",
    "            \n",
    "       \n",
    "        \n",
    "        voltaje.append(medir('VOLT'))\n",
    "        time.sleep(0.5)\n",
    "\n",
    "        corriente.append(medir('CURR'))\n",
    "        time.sleep(0.5)\n",
    "        \n",
    "    el.write('INPUT OFF')\n",
    "    \n",
    "    if graph:\n",
    "        plotiv(corriente,voltaje)\n",
    "    \n",
    "    return (voltaje,corriente)\n",
    "        \n",
    "def plotiv(cor,volt):\n",
    "    plt.scatter(x=cor,y=volt)\n",
    "    plt.xlabel('Corriente [A]')\n",
    "    plt.ylabel('Voltaje [V]')\n",
    "    plt.title('Curva IV')\n",
    "    plt.xlim((0,5))\n",
    "    plt.ylim((0,14))\n",
    "\n",
    "    \n",
    "    \n",
    "    \n"
   ]
  },
  {
   "cell_type": "code",
   "execution_count": 296,
   "metadata": {},
   "outputs": [
    {
     "data": {
      "image/png": "[encoded data removed]",
      "text/plain": [
       "<Figure size 432x288 with 1 Axes>"
      ]
     },
     "metadata": {
      "needs_background": "light"
     },
     "output_type": "display_data"
    }
   ],
   "source": [
    "volt,cor = iv(0,3.5,20)"
   ]
  },
  {
   "cell_type": "code",
   "execution_count": 294,
   "metadata": {},
   "outputs": [
    {
     "data": {
      "text/plain": [
       "([11.44,\n",
       "  8.44,\n",
       "  8.8883,\n",
       "  9.3316,\n",
       "  9.7774,\n",
       "  10.2208,\n",
       "  10.6666,\n",
       "  11.1099,\n",
       "  11.3316,\n",
       "  11.3513],\n",
       " [5.4985, 4.4591, 3.6498, 2.9011, 2.1987, 1.5287, 0.8889, 0.2874, 0.0, 0.0])"
      ]
     },
     "execution_count": 294,
     "metadata": {},
     "output_type": "execute_result"
    },
    {
     "data": {
      "image/png": "[encoded data removed]",
      "text/plain": [
       "<Figure size 432x288 with 1 Axes>"
      ]
     },
     "metadata": {
      "needs_background": "light"
     },
     "output_type": "display_data"
    }
   ],
   "source": [
    "iv(8,12,10,mode='VOLT')"
   ]
  },
  {
   "cell_type": "code",
   "execution_count": 11,
   "metadata": {},
   "outputs": [],
   "source": [
    "import numpy as np\n",
    "headersCSV = ['time','T_horno', 'T_preH_pos', 'T_preH_neg','P_out_pos',\n",
    "                          'P_out_neg','T_out_pos','T_out_neg','Humedad','T_humidificador',\n",
    "                          'Voltaje','Corriente']\n",
    "a = headersCSV[0:4]\n",
    "\n",
    "            \n",
    "reg = {}\n",
    "\n",
    "reg = dict(zip(headersCSV,headersCSV))\n",
    "Reg =dict(zip(headersCSV,np.zeros(len(headersCSV))))"
   ]
  },
  {
   "cell_type": "code",
   "execution_count": 28,
   "metadata": {},
   "outputs": [
    {
     "data": {
      "text/plain": [
       "1663951516.563025"
      ]
     },
     "execution_count": 28,
     "metadata": {},
     "output_type": "execute_result"
    }
   ],
   "source": [
    "from datetime import datetime, timedelta\n",
    "\n",
    "then = datetime.strptime('1970-01-01T00:00:00Z', '%Y-%m-%dT%H:%M:%SZ')\n",
    "now = datetime.utcnow()\n",
    "abs(now-then).total_seconds()\n",
    "\n",
    "#if abs(now - then) < timedelta(minutes=5):\n",
    "#    \"within 5 minutes\""
   ]
  },
  {
   "cell_type": "code",
   "execution_count": 43,
   "metadata": {},
   "outputs": [
    {
     "data": {
      "text/plain": [
       "'2022-09-23 13:51:17.869385'"
      ]
     },
     "execution_count": 43,
     "metadata": {},
     "output_type": "execute_result"
    }
   ],
   "source": [
    "then = datetime.strptime('1970-01-01T01:00:00Z', '%Y-%m-%dT%H:%M:%SZ')\n",
    "now = datetime.utcnow()\n",
    "str(now-timedelta(hours=3)-then+then)"
   ]
  },
  {
   "cell_type": "code",
   "execution_count": 8,
   "metadata": {},
   "outputs": [
    {
     "data": {
      "text/plain": [
       "{'a': 1,\n",
       " '2': 2,\n",
       " 'FlujoH2': 'FlujoH2',\n",
       " 'FlujoCO2': 'FlujoCO2',\n",
       " 'FlujoCO': 'FlujoCO',\n",
       " 'FlujoCH4': 'FlujoCH4',\n",
       " 'FlujoPurga': 'FlujoPurga',\n",
       " 'FlujoN2_neg': 'FlujoN2_neg',\n",
       " 'FlujoO2': 'FlujoO2',\n",
       " 'FlujoN2_pos': 'FlujoN2_pos',\n",
       " 'FlujoAire': 'FlujoAire'}"
      ]
     },
     "execution_count": 8,
     "metadata": {},
     "output_type": "execute_result"
    }
   ],
   "source": [
    "keyFlujos = ['FlujoH2','FlujoCO2','FlujoCO','FlujoCH4','FlujoPurga',\n",
    "                    'FlujoN2_neg','FlujoO2','FlujoN2_pos','FlujoAire']\n",
    "\n",
    "a = {'a':1,'2':2}\n",
    "mapa = zip(keyFlujos,keyFlujos)\n",
    "b = dict(mapa)\n",
    "a.update(b)\n",
    "a"
   ]
  }
 ],
 "metadata": {
  "kernelspec": {
   "display_name": "Python 3 (ipykernel)",
   "language": "python",
   "name": "python3"
  },
  "language_info": {
   "codemirror_mode": {
    "name": "ipython",
    "version": 3
   },
   "file_extension": ".py",
   "mimetype": "text/x-python",
   "name": "python",
   "nbconvert_exporter": "python",
   "pygments_lexer": "ipython3",
   "version": "3.10.2 (tags/v3.10.2:a58ebcc, Jan 17 2022, 14:12:15) [MSC v.1929 64 bit (AMD64)]"
  },
  "vscode": {
   "interpreter": {
    "hash": "c63d8c7d738c2960218a10995aedf0a7f67a49a231e71037adf0440953cdb45b"
   }
  }
 },
 "nbformat": 4,
 "nbformat_minor": 2
}
